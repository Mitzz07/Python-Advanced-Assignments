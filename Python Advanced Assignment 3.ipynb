{
 "cells": [
  {
   "cell_type": "markdown",
   "id": "fc3a970e",
   "metadata": {},
   "source": [
    "1. What is the concept of an abstract superclass?\n",
    "Ans : An abstract class/superclass can be considered as a blueprint for other classes. It allows you to create a set of methods that must be created within any child classes built from the abstract class. A class which contains one or more abstract methods is called an abstract class.\n",
    "\n",
    "Whereas an abstract method is a method that has a declaration but does not have an implementation."
   ]
  },
  {
   "cell_type": "code",
   "execution_count": null,
   "id": "24bddcef",
   "metadata": {},
   "outputs": [],
   "source": [
    "from abc import ABC\n",
    "\n",
    "class polygon(ABC):    #abstract class\n",
    "    @abstractmethod\n",
    "    def noofsides(self):  #abstract method\n",
    "        pass\n",
    "class triangle(polygon):\n",
    "    def noofsides(self):    #overriding abstract method in child class triangle\n",
    "        print('it has 3 sides')\n",
    "class pentagon(polygon):\n",
    "    def noofsides(self):     #overriding abstract method in child class pentagon\n",
    "        print('It has 5 sides')\n",
    "        "
   ]
  },
  {
   "cell_type": "markdown",
   "id": "6fec1a60",
   "metadata": {},
   "source": [
    "2. What happens when a class statement's top level contains a basic assignment statement?\n",
    "Ans: When a Class statement's top level contains a basic assignment statement, its usually treated as a class attribute or class level variable.\n",
    "\n",
    "where as assignment statements inside methods are treated as instance attributes or local attributes.\n",
    "\n",
    "When an instance of a class is created a single copy of class attributes is maintained and shared to all instances of class. where as each instance object maintains its own copy of instance variables."
   ]
  },
  {
   "cell_type": "code",
   "execution_count": null,
   "id": "77822619",
   "metadata": {},
   "outputs": [],
   "source": [
    "class person:\n",
    "    species= 'homosapians'    #class attribute\n",
    "    def __init__(self, name , gender):\n",
    "        self.name = name      #instance attribute\n",
    "        self.gender = gender "
   ]
  },
  {
   "cell_type": "markdown",
   "id": "55839524",
   "metadata": {},
   "source": [
    "3. Why does a class need to manually call a superclass's init method?\n",
    "Ans: if a child class has __init__ method, then it will not inherit the __init__ method of the parent class. in other words the __init__ method of the child class overrides the __init__ method of the parent class. so we have to manually call a parent superclass's __init__ using super() method"
   ]
  },
  {
   "cell_type": "code",
   "execution_count": 6,
   "id": "b590226d",
   "metadata": {},
   "outputs": [
    {
     "name": "stdout",
     "output_type": "stream",
     "text": [
      "{'name': 'mitzz', 'age': 22, 'salary': 50000}\n"
     ]
    }
   ],
   "source": [
    "class person:\n",
    "    def __init__(self,name,age):\n",
    "        self.name = name\n",
    "        self.age = age\n",
    "class employe(person):\n",
    "    def __init__(self, name, age, salary):\n",
    "        super().__init__(name,age)\n",
    "        self.salary = salary\n",
    "        \n",
    "obj1= employe(\"mitzz\",22,50000)       \n",
    "print(vars(obj1))"
   ]
  },
  {
   "cell_type": "markdown",
   "id": "da6cbe3a",
   "metadata": {},
   "source": [
    "4. How can you augment, instead of completely replacing, an inherited method?\n",
    "Ans: super() method can be used to augment, instead of completely replacing, an inherited method."
   ]
  },
  {
   "cell_type": "code",
   "execution_count": 8,
   "id": "d1b1a86e",
   "metadata": {},
   "outputs": [
    {
     "name": "stdout",
     "output_type": "stream",
     "text": [
      "{'name': 'mitzz', 'age': 22, 'salary': 50000}\n"
     ]
    }
   ],
   "source": [
    "class person:\n",
    "    def __init__(self,name,age):\n",
    "        self.name = name\n",
    "        self.age = age\n",
    "class employe(person):\n",
    "    def __init__(self, name, age, salary):\n",
    "        super().__init__(name,age)\n",
    "        self.salary = salary\n",
    "        \n",
    "obj1= employe(\"mitzz\",22,50000)       \n",
    "print(obj1.__dict__)"
   ]
  },
  {
   "cell_type": "markdown",
   "id": "6bc47257",
   "metadata": {},
   "source": [
    "5. How is the local scope of a class different from that of a function?\n",
    "Ans: A Variable which is defined inside a function is local to that function. it is accesible from the point at which it is defined until the end of the function, and exists for as long as the function is existing.\n",
    "\n",
    "Similary a variable inside of a class also has a local variable scope. Variables which are defined in the class body (but outside all methods) are called as class level variables or class attributes. they can be referenced by there bare names within the same scope, but they can also be accessed from outside this scope if we use the attribute access operator (.). on a class or an instance of the class."
   ]
  },
  {
   "cell_type": "code",
   "execution_count": 12,
   "id": "d5b0dda9",
   "metadata": {},
   "outputs": [
    {
     "name": "stdout",
     "output_type": "stream",
     "text": [
      "your name is  mitzz\n",
      "Name varible is not available outside hello function scope\n"
     ]
    }
   ],
   "source": [
    "def hello(name):\n",
    "    name = name\n",
    "    print('your name is ',name)\n",
    "hello('mitzz')\n",
    "try:\n",
    "    name\n",
    "except NameError:\n",
    "    print('Name varible is not available outside hello function scope')\n"
   ]
  },
  {
   "cell_type": "code",
   "execution_count": 14,
   "id": "6147fd70",
   "metadata": {},
   "outputs": [
    {
     "name": "stdout",
     "output_type": "stream",
     "text": [
      "HomeSapines\n",
      "HomeSapines\n"
     ]
    }
   ],
   "source": [
    "class Person:\n",
    "    species = \"HomeSapines\"\n",
    "    def __init__(self):\n",
    "        pass\n",
    "    \n",
    "print(Person.species) # Accessing species using class name\n",
    "\n",
    "Male = Person()\n",
    "print(Male.species) # Accessing species using instance of class"
   ]
  }
 ],
 "metadata": {
  "kernelspec": {
   "display_name": "Python 3 (ipykernel)",
   "language": "python",
   "name": "python3"
  },
  "language_info": {
   "codemirror_mode": {
    "name": "ipython",
    "version": 3
   },
   "file_extension": ".py",
   "mimetype": "text/x-python",
   "name": "python",
   "nbconvert_exporter": "python",
   "pygments_lexer": "ipython3",
   "version": "3.9.7"
  }
 },
 "nbformat": 4,
 "nbformat_minor": 5
}
