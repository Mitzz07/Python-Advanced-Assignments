{
 "cells": [
  {
   "cell_type": "markdown",
   "id": "738e436f",
   "metadata": {},
   "source": [
    "Q1. What is the relationship between classes and modules?\n",
    "Ans: A Python class is like an outline for creating a new object. An object is anything that you wish to manipulate or change while working through the code. Every time a class object is instantiated, which is when we declare a variable, a new object is initiated from scratch.\n",
    "\n",
    "Whereas in Python, Modules are simply files with the . py extension containing Python code that can be imported inside another Python Program. In simple terms, we can consider a module to be the same as a code library or a file that contains a set of functions/Classes that you want to include in your application."
   ]
  },
  {
   "cell_type": "markdown",
   "id": "bee32117",
   "metadata": {},
   "source": [
    "Q2. How do you make instances and classes?\n",
    "Ans: For creating a class instance. we call a class by its name and pass the arguments which its __init__ method accepts.\n",
    "\n",
    "Example: mitzz = employee('Male',20000), Here mitzz is an instance of class employee with attriubutes 'Male' and 20000.\n",
    "\n",
    "Whereas for creating a class, we use the Class keyword. Class keyword is followed by classname and semicolon.\n",
    "\n",
    "Example: "
   ]
  },
  {
   "cell_type": "code",
   "execution_count": 1,
   "id": "f644a0de",
   "metadata": {},
   "outputs": [],
   "source": [
    "class Employee: \n",
    "    def __init__(self, gender,salary):\n",
    "        self.gender = gender \n",
    "        self.salary = salary\n",
    "        \n",
    "#Here Employee is a class created with class keyword with arguments gender and salary."
   ]
  },
  {
   "cell_type": "markdown",
   "id": "d58c0606",
   "metadata": {},
   "source": [
    "Q3. Where and how should be class attributes created?\n",
    "Ans: Class attributes or Class level Attributes belong to the class itself. these attributes will be shared by all the instances of the class. Hence these attributes are usually created/defined in the top of class definiation outside all methods.\n",
    "\n",
    "Example: In the below code we are defining a class attribute called no_of_wheels which will be shared by all the instances of the class Car\n"
   ]
  },
  {
   "cell_type": "code",
   "execution_count": null,
   "id": "908485df",
   "metadata": {},
   "outputs": [],
   "source": [
    "class car:\n",
    "    no_of_wheels = 4    #this is a class attribute\n",
    "    def __init__(self, color,price,engine):\n",
    "        self.color = color\n",
    "        self.price = price\n",
    "        self.engine = engine   #all this are  instance attribute."
   ]
  },
  {
   "cell_type": "markdown",
   "id": "36f2db6a",
   "metadata": {},
   "source": [
    "Q4. Where and how are instance attributes created?\n",
    "Ans: Instances attributes are passed to the class when an object of the class is created. Unlike class attributes, instance attributes are not shared by all objects of the classs. instead each object maintains its own copy of instance attributes at object level. whereas incase of class attributes all instances of class refer to a single copy. Usually instance attributes are defined within the __init__ method of class\n",
    "\n",
    "Example: In the below sample code we are creating a class Car with instance varaibles color, price, engine, which will be provided when an instance of class Car is created.\n"
   ]
  },
  {
   "cell_type": "code",
   "execution_count": 2,
   "id": "3f82d93b",
   "metadata": {},
   "outputs": [],
   "source": [
    "class car :\n",
    "    def __init__(self,color,price,engine):\n",
    "        self.color = color    #all below are instance atrributes\n",
    "        self.price = price\n",
    "        self.engine = engine\n",
    "safari = car('Blue',2300000,'electric')  #this are the instances of the class with diff variable.\n",
    "nexon = car('red',1200000,'petrol')"
   ]
  },
  {
   "cell_type": "markdown",
   "id": "c9141a3a",
   "metadata": {},
   "source": [
    "Q5. What does the term \"self\" in a Python class mean?\n",
    "Ans: self represents the instance of the class (it represents the object itself). By using the “self” keyword we can access the attributes and methods of the class with in the class in python. It binds the attributes with the given arguments."
   ]
  },
  {
   "cell_type": "code",
   "execution_count": 8,
   "id": "dff1fdb5",
   "metadata": {},
   "outputs": [
    {
     "name": "stdout",
     "output_type": "stream",
     "text": [
      "{'color': 'Indigo Blue', 'price': 1400000, 'engine': 'electric'}\n",
      "{'color': 'Pearl White', 'price': 2100000, 'engine': 'petrol'}\n"
     ]
    }
   ],
   "source": [
    "class Car:\n",
    "    def __init__(self,color,price,engine):\n",
    "        self.color = color # All this are instance attributes\n",
    "        self.price = price\n",
    "        self.engine = engine\n",
    "\n",
    "nexon_ev = Car('Indigo Blue', 1400000, 'electric')\n",
    "safari = Car('Pearl White',2100000, 'petrol')\n",
    "\n",
    "print(vars(nexon_ev))\n",
    "print(vars(safari))"
   ]
  },
  {
   "cell_type": "markdown",
   "id": "8a39a3a7",
   "metadata": {},
   "source": [
    "Q6. How does a Python class handle operator overloading?\n",
    "Ans: Python Classes handle operator overloading by using special methods called Magic methods. these special methods usually begin and end with __ (double underscore)\n",
    "Example: Magic methods for basic arithmetic operators are:\n",
    "\n",
    "+ = __add__()\n",
    "- = __sub__()\n",
    "* = __mul__()\n",
    "/ = __div__()"
   ]
  },
  {
   "cell_type": "code",
   "execution_count": 10,
   "id": "b8dc725f",
   "metadata": {},
   "outputs": [
    {
     "name": "stdout",
     "output_type": "stream",
     "text": [
      "The total number of pages in 2 books is 300\n"
     ]
    }
   ],
   "source": [
    "class Book:\n",
    "    def __init__(self,pages):\n",
    "        self.pages = pages\n",
    "    def __add__(self,other):\n",
    "        return self.pages + other.pages\n",
    "b1 = Book(100)\n",
    "b2 = Book(200)\n",
    "print(f'The total number of pages in 2 books is {b1+b2}')"
   ]
  },
  {
   "cell_type": "markdown",
   "id": "0603a7b8",
   "metadata": {},
   "source": [
    "Q7. When do you consider allowing operator overloading of your classes?\n",
    "Ans: When we want to have different meaning for the same operator according to the context we use operator overloading.\n"
   ]
  },
  {
   "cell_type": "markdown",
   "id": "0cec7ee5",
   "metadata": {},
   "source": [
    "Q8. What is the most popular form of operator overloading?\n",
    "Ans: The most popular form of operator overloading in python is by special methods called Magic methods. Which usually beign and end with double underscore __."
   ]
  },
  {
   "cell_type": "code",
   "execution_count": 11,
   "id": "14a89eba",
   "metadata": {},
   "outputs": [
    {
     "name": "stdout",
     "output_type": "stream",
     "text": [
      "Sum -> 100\n",
      "String Concatenation -> mitzz modern\n"
     ]
    }
   ],
   "source": [
    "class A:\n",
    "    def __init__(self,a):\n",
    "        self.a = a\n",
    "    def __add__(self,o):\n",
    "        return self.a+o.a\n",
    "obj1 = A(51)\n",
    "obj2 = A(49)\n",
    "obj3 = A('mitzz')\n",
    "obj4 = A(' modern')\n",
    "print(f'Sum -> {obj1+obj2}')\n",
    "print(f'String Concatenation -> {obj3+obj4}')"
   ]
  },
  {
   "cell_type": "markdown",
   "id": "969655eb",
   "metadata": {},
   "source": [
    "Q9. What are the two most important concepts to grasp in order to comprehend Python OOP code?\n",
    "Ans: Classes and objects are the two most important concepts to comprehend python OOP code as more formally objects are entities that represent instances of general abstract concept called class.\n",
    "\n",
    "Along with classes and objects the important concepts to grasp are:\n",
    "\n",
    "Inheritence\n",
    "Abstraction\n",
    "Polymorphism\n",
    "Encapsulation"
   ]
  }
 ],
 "metadata": {
  "kernelspec": {
   "display_name": "Python 3 (ipykernel)",
   "language": "python",
   "name": "python3"
  },
  "language_info": {
   "codemirror_mode": {
    "name": "ipython",
    "version": 3
   },
   "file_extension": ".py",
   "mimetype": "text/x-python",
   "name": "python",
   "nbconvert_exporter": "python",
   "pygments_lexer": "ipython3",
   "version": "3.9.7"
  }
 },
 "nbformat": 4,
 "nbformat_minor": 5
}
