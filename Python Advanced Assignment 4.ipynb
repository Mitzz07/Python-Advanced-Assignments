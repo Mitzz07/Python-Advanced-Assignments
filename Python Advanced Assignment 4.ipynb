{
 "cells": [
  {
   "cell_type": "markdown",
   "id": "9d956800",
   "metadata": {},
   "source": [
    "Q1. Which two operator overloading methods can you use in your classes to support iteration?\n",
    "Ans: __iter__ and __next__ are the operator overloading methods in python that support iteration and are collectively called iterator protocol.\n",
    "\n",
    "__iter__ returns the iterator object and is called at the start of loop in our respective class.\n",
    "__next__ is called at each loop increment, it returns the incremented value. Also Stopiteration is raised when there is no value to return."
   ]
  },
  {
   "cell_type": "code",
   "execution_count": 5,
   "id": "31be2f76",
   "metadata": {},
   "outputs": [],
   "source": [
    "class counter :\n",
    "    def __init__(self,low,high):\n",
    "        self.current = low\n",
    "        self.high = high\n",
    "    def __iter__(self):\n",
    "        return self\n",
    "    def __next__(self):\n",
    "        if self.current > self.high:\n",
    "            raise StopIteration\n",
    "        else:\n",
    "            self.current = self.current +1\n",
    "            return self.current"
   ]
  },
  {
   "cell_type": "code",
   "execution_count": 14,
   "id": "df97286c",
   "metadata": {},
   "outputs": [
    {
     "name": "stdout",
     "output_type": "stream",
     "text": [
      "3 4 5 6 7 8 9 10 11 "
     ]
    }
   ],
   "source": [
    "for i in counter(2,10):\n",
    "    print(i,end=' ')"
   ]
  },
  {
   "cell_type": "markdown",
   "id": "b63f0c57",
   "metadata": {},
   "source": [
    "Q2. In what contexts do the two operator overloading methods manage printing?\n",
    "Ans: __str__ and __repr__ are two operator overloading methods that manage printing.\n",
    "\n",
    "In Short, the difference between both these operators is the goal of __repr__ is to be unambiguous and __str__ is to be readable.\n",
    "Whenever we are printing any object reference internally __str__ method will be called by default.\n",
    "The main purpose of __str__ is for readability. it prints the informal string representation of an object, one that is useful for printing the object. it may not be possible to convert result string to original object.\n",
    "__repr__ is used to print official string representation of an object, so it includes all information and development."
   ]
  },
  {
   "cell_type": "code",
   "execution_count": 15,
   "id": "dbd46658",
   "metadata": {},
   "outputs": [
    {
     "name": "stdout",
     "output_type": "stream",
     "text": [
      "<__main__.student object at 0x000001E3DB7E7CD0>\n"
     ]
    }
   ],
   "source": [
    "class student:\n",
    "    def __init__(self, name, roll_no):\n",
    "        self.name = name \n",
    "        self.roll_no = roll_no\n",
    "s1= student('mitzz',30)\n",
    "print(str(s1))"
   ]
  },
  {
   "cell_type": "code",
   "execution_count": 20,
   "id": "cd1839d2",
   "metadata": {},
   "outputs": [
    {
     "name": "stdout",
     "output_type": "stream",
     "text": [
      "Student Name: mitzz and Roll No: 30\n"
     ]
    }
   ],
   "source": [
    "class student:\n",
    "    def __init__(self, name, roll_no):\n",
    "        self.name = name \n",
    "        self.roll_no = roll_no\n",
    "    def __str__(self):\n",
    "        return f'Student Name: {self.name} and Roll No: {self.roll_no}'\n",
    "    \n",
    "s2=student('mitzz',30)\n",
    "print(str(s2))"
   ]
  },
  {
   "cell_type": "code",
   "execution_count": 22,
   "id": "7856061e",
   "metadata": {},
   "outputs": [
    {
     "name": "stdout",
     "output_type": "stream",
     "text": [
      "2023-01-03 23:58:12.020997\n",
      "cant convert\n"
     ]
    }
   ],
   "source": [
    "import datetime\n",
    "today = datetime.datetime.now()\n",
    "\n",
    "s= str(today)     #converting object to string\n",
    "print(s)\n",
    "\n",
    "try :\n",
    "    d= eval(s)    #converting back to object from string\n",
    "except:\n",
    "    print('cant convert')"
   ]
  },
  {
   "cell_type": "code",
   "execution_count": 23,
   "id": "2c7a2b95",
   "metadata": {},
   "outputs": [
    {
     "name": "stdout",
     "output_type": "stream",
     "text": [
      "datetime.datetime(2023, 1, 3, 23, 59, 37, 561778)\n",
      "2023-01-03 23:59:37.561778\n"
     ]
    }
   ],
   "source": [
    "import datetime\n",
    "today = datetime.datetime.now()\n",
    "\n",
    "u = repr(today)\n",
    "print(u)\n",
    "\n",
    "e= eval(u)\n",
    "print(e)"
   ]
  },
  {
   "cell_type": "markdown",
   "id": "0c140cef",
   "metadata": {},
   "source": [
    "3. In a class, how do you intercept slice operations?\n",
    "Ans: In a class use of slice() in __getitem__ method is used for intercept slice operation. This slice method is provided with start integer number, stop integer number and step integer number.\n",
    "\n",
    "Example: __getitem__(slice(start,stop,step))"
   ]
  },
  {
   "cell_type": "markdown",
   "id": "e906f317",
   "metadata": {},
   "source": [
    "Q4. In a class, how do you capture in-place addition?\n",
    "Ans: a+b is normal addition. Whereas a+=b is inplace addition operation. In this in-place addition a itself will store the value of addition. In a class __iadd__ method is used for this in-place operation"
   ]
  },
  {
   "cell_type": "code",
   "execution_count": 26,
   "id": "053f9916",
   "metadata": {},
   "outputs": [
    {
     "name": "stdout",
     "output_type": "stream",
     "text": [
      "59\n"
     ]
    }
   ],
   "source": [
    "class book:\n",
    "    def __init__(self,pages):\n",
    "        self.pages= pages\n",
    "    def __iadd__(self,others):\n",
    "        self.pages= self.pages + others.pages\n",
    "        return self.pages\n",
    "    \n",
    "b1=book(30)\n",
    "b2=book(29)\n",
    "b1+=b2\n",
    "print(b1)"
   ]
  },
  {
   "cell_type": "markdown",
   "id": "7b4dc28f",
   "metadata": {},
   "source": [
    "Q5. When is it appropriate to use operator overloading?\n",
    "Ans: Operator overloading is used when we want to use an operator other than its normal operation to have different meaning according to the context required in user defined function."
   ]
  },
  {
   "cell_type": "code",
   "execution_count": 28,
   "id": "b43a27e5",
   "metadata": {},
   "outputs": [
    {
     "name": "stdout",
     "output_type": "stream",
     "text": [
      "113\n"
     ]
    }
   ],
   "source": [
    "class book :\n",
    "    def __init__(self,pages):\n",
    "        self.pages=pages\n",
    "    def __add__(self,other):\n",
    "        return self.pages + other.pages\n",
    "b1=book(29)\n",
    "b2=book(84)\n",
    "print(b1+b2)"
   ]
  }
 ],
 "metadata": {
  "kernelspec": {
   "display_name": "Python 3 (ipykernel)",
   "language": "python",
   "name": "python3"
  },
  "language_info": {
   "codemirror_mode": {
    "name": "ipython",
    "version": 3
   },
   "file_extension": ".py",
   "mimetype": "text/x-python",
   "name": "python",
   "nbconvert_exporter": "python",
   "pygments_lexer": "ipython3",
   "version": "3.9.7"
  }
 },
 "nbformat": 4,
 "nbformat_minor": 5
}
