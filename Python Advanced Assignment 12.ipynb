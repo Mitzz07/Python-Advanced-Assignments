{
 "cells": [
  {
   "cell_type": "markdown",
   "id": "8e62b833",
   "metadata": {},
   "source": [
    "Q1. Does assigning a value to a string's indexed character violate Python's string immutability ?\n",
    "Ans: String’s indexed character cannot to be assigned a New value , as Strings are immutable.\n",
    "Example:"
   ]
  },
  {
   "cell_type": "code",
   "execution_count": 2,
   "id": "63c039cf",
   "metadata": {},
   "outputs": [
    {
     "name": "stdout",
     "output_type": "stream",
     "text": [
      "2542957861488\n"
     ]
    },
    {
     "ename": "TypeError",
     "evalue": "'str' object does not support item assignment",
     "output_type": "error",
     "traceback": [
      "\u001b[1;31m---------------------------------------------------------------------------\u001b[0m",
      "\u001b[1;31mTypeError\u001b[0m                                 Traceback (most recent call last)",
      "\u001b[1;32m~\\AppData\\Local\\Temp/ipykernel_17260/2612591084.py\u001b[0m in \u001b[0;36m<module>\u001b[1;34m\u001b[0m\n\u001b[0;32m      1\u001b[0m \u001b[0mname\u001b[0m \u001b[1;33m=\u001b[0m \u001b[1;34m\"Reinforcement\"\u001b[0m\u001b[1;33m\u001b[0m\u001b[1;33m\u001b[0m\u001b[0m\n\u001b[0;32m      2\u001b[0m \u001b[0mprint\u001b[0m\u001b[1;33m(\u001b[0m\u001b[0mid\u001b[0m\u001b[1;33m(\u001b[0m\u001b[0mname\u001b[0m\u001b[1;33m)\u001b[0m\u001b[1;33m)\u001b[0m\u001b[1;33m\u001b[0m\u001b[1;33m\u001b[0m\u001b[0m\n\u001b[1;32m----> 3\u001b[1;33m \u001b[0mname\u001b[0m\u001b[1;33m[\u001b[0m\u001b[1;36m0\u001b[0m\u001b[1;33m]\u001b[0m \u001b[1;33m=\u001b[0m \u001b[1;34m\"V\"\u001b[0m\u001b[1;33m\u001b[0m\u001b[1;33m\u001b[0m\u001b[0m\n\u001b[0m",
      "\u001b[1;31mTypeError\u001b[0m: 'str' object does not support item assignment"
     ]
    }
   ],
   "source": [
    "name = \"Reinforcement\"\n",
    "print(id(name))\n",
    "name[0] = \"V\""
   ]
  },
  {
   "cell_type": "markdown",
   "id": "c8249439",
   "metadata": {},
   "source": [
    "Q2. Does using the += operator to concatenate strings violate Python's string immutability? Why or why not ?\n",
    "Ans: += operator is used to concatenate strings, it does not violate Python’s string immutability Property. Because doing so new creates a new association with data and variable. \n",
    "\n",
    "E.g. str_1=\"a\" and str_1+=\"b. effect of this statements to create string ab and reassign it to variable str_1, any string data is not actually modified."
   ]
  },
  {
   "cell_type": "code",
   "execution_count": 3,
   "id": "a71012a3",
   "metadata": {},
   "outputs": [
    {
     "name": "stdout",
     "output_type": "stream",
     "text": [
      "a\n",
      "2542878254256\n",
      "ab\n",
      "2542957308784\n"
     ]
    }
   ],
   "source": [
    "str_1 = 'a'\n",
    "print(str_1)\n",
    "print(id(str_1))\n",
    "str_1 += 'b'\n",
    "print(str_1)\n",
    "print(id(str_1))"
   ]
  },
  {
   "cell_type": "markdown",
   "id": "b708a7c9",
   "metadata": {},
   "source": [
    "It doesnt violate python string immutability because it is creating a different index values for str_1 before and after editing."
   ]
  },
  {
   "cell_type": "markdown",
   "id": "44676350",
   "metadata": {},
   "source": [
    "Q3. In Python, how many different ways are there to index a character?\n",
    "Ans: A Character in string can be indexed using string name followed by index number of character in square bracket. \n",
    "Positive Indexing i.e. first index is 0 an so on, or \n",
    "Negative Indexing i.e. last letter is -1 and so on can be used to index a character"
   ]
  },
  {
   "cell_type": "code",
   "execution_count": 12,
   "id": "689d33bd",
   "metadata": {},
   "outputs": [
    {
     "name": "stdout",
     "output_type": "stream",
     "text": [
      "z\n",
      "s\n"
     ]
    }
   ],
   "source": [
    "str1 = 'mitzz is a class boi'\n",
    "\n",
    "print(str1[3])   #positive indexing\n",
    "print(str1[-6])  #negative indexing"
   ]
  },
  {
   "cell_type": "markdown",
   "id": "7e0724df",
   "metadata": {},
   "source": [
    "Q4. What is the relationship between indexing and slicing?\n",
    "Ans: We can access elements of sequence datatypes by using slicing and indexing. \n",
    "Indexing is used to obtaining individual element while slicing for sequence of elements. "
   ]
  },
  {
   "cell_type": "code",
   "execution_count": 13,
   "id": "e9f34439",
   "metadata": {},
   "outputs": [
    {
     "name": "stdout",
     "output_type": "stream",
     "text": [
      "z\n",
      "anted t\n"
     ]
    }
   ],
   "source": [
    "a = ' mitzz wanted to confess something on 31st'\n",
    "\n",
    "print(a[4])   #indexing\n",
    "print(a[8:15])   #slicing"
   ]
  },
  {
   "cell_type": "markdown",
   "id": "d2957462",
   "metadata": {},
   "source": [
    "Q5. What is an indexed character's exact data type? What is the data form of a slicing-generated substring?\n",
    "Ans: Indexed characters and sliced substrings have datatype String."
   ]
  },
  {
   "cell_type": "code",
   "execution_count": 15,
   "id": "ad317f54",
   "metadata": {},
   "outputs": [
    {
     "data": {
      "text/plain": [
       "str"
      ]
     },
     "execution_count": 15,
     "metadata": {},
     "output_type": "execute_result"
    }
   ],
   "source": [
    "a = ' mitzz wanted to confess something on 31st'\n",
    "\n",
    "type(a[4])  #indexing\n",
    "type(a[8:15])  #slicing"
   ]
  },
  {
   "cell_type": "markdown",
   "id": "e3f6bc91",
   "metadata": {},
   "source": [
    "Q6. What is the relationship between string and character \"types\" in Python?\n",
    "Ans: Object that contains sequence of character datatypes are called String."
   ]
  },
  {
   "cell_type": "markdown",
   "id": "c9d24d1c",
   "metadata": {},
   "source": [
    "Q7. Identify at least two operators & one method that allow you to combine one or more smaller strings to create a larger string ?\n",
    "Ans: +, += and * allow to combine one or more smaller strings to create a larger string. .join() method joins element of iterable type like list and tuple to get a combined string."
   ]
  },
  {
   "cell_type": "code",
   "execution_count": 24,
   "id": "8d244759",
   "metadata": {},
   "outputs": [
    {
     "name": "stdout",
     "output_type": "stream",
     "text": [
      "mitzz loves modern\n",
      "mitzz loves mitzz loves \n",
      "mitzz loves modern\n",
      "abcde\n",
      "abcde\n"
     ]
    }
   ],
   "source": [
    "str1= 'mitzz loves ' \n",
    "\n",
    "print(str1 + 'modern')\n",
    "\n",
    "print(str1 * 2)\n",
    "\n",
    "str1 += 'modern'\n",
    "print(str1)\n",
    "\n",
    "a = ''.join(['a','b','c','d','e'])\n",
    "print(a)\n",
    "\n",
    "a1 = ''.join(('a','b','c','d','e'))\n",
    "print(a1)"
   ]
  },
  {
   "cell_type": "markdown",
   "id": "bbb93d17",
   "metadata": {},
   "source": [
    "Q8. What is the benefit of first checking the target string with in or not in before using the index method to find a substring ?\n",
    "Ans: Checking the target string with in or not Operators before using the index method to find a substring just helps confirming availability of substring and thus avoid raising of ValueError.\n",
    "Example:\n",
    "in_string = \"ineuron\"\n",
    "in_string.index('x') # Raises ValueError\n",
    "in_string.index('u') # 3"
   ]
  },
  {
   "cell_type": "markdown",
   "id": "74c6e19a",
   "metadata": {},
   "source": [
    "Q9. Which operators and built-in string methods produce simple Boolean (true/false) results?\n",
    "Ans: The String Operators and built-in methods to Produce Simple Boolean (True/False) Results are:\n",
    "\n",
    "in\n",
    "not\n",
    ".isalpha()\n",
    ".isalnum()\n",
    ".isdecimal()\n",
    ".isdigit()\n",
    ".islower()\n",
    ".isnumeric()\n",
    ".isprintable()\n",
    ".isspace()\n",
    ".istitle()"
   ]
  }
 ],
 "metadata": {
  "kernelspec": {
   "display_name": "Python 3 (ipykernel)",
   "language": "python",
   "name": "python3"
  },
  "language_info": {
   "codemirror_mode": {
    "name": "ipython",
    "version": 3
   },
   "file_extension": ".py",
   "mimetype": "text/x-python",
   "name": "python",
   "nbconvert_exporter": "python",
   "pygments_lexer": "ipython3",
   "version": "3.9.7"
  }
 },
 "nbformat": 4,
 "nbformat_minor": 5
}
